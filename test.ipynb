{
 "cells": [
  {
   "cell_type": "code",
   "execution_count": 1,
   "metadata": {},
   "outputs": [],
   "source": [
    "import tensorflow as tf\n",
    "from tf_crnn.loader import PredictionModel\n",
    "from imageio import imread\n",
    "import os\n",
    "\n",
    "import numpy as np\n",
    "import random\n",
    "import matplotlib.pyplot as plt\n",
    "from PIL import Image\n",
    "from glob import glob"
   ]
  },
  {
   "cell_type": "code",
   "execution_count": 2,
   "metadata": {},
   "outputs": [],
   "source": [
    "os.environ[\"CUDA_DEVICE_ORDER\"]=\"PCI_BUS_ID\"   \n",
    "os.environ[\"CUDA_VISIBLE_DEVICES\"]=\"2\""
   ]
  },
  {
   "cell_type": "code",
   "execution_count": 3,
   "metadata": {},
   "outputs": [],
   "source": [
    "model_dir = './output_hangul_eren_750_v1/export/1552705958/'"
   ]
  },
  {
   "cell_type": "code",
   "execution_count": 4,
   "metadata": {},
   "outputs": [
    {
     "name": "stdout",
     "output_type": "stream",
     "text": [
      "/home/eren/tmp/tf-crnn/data/images/test_hangul/training_1555_두_6.jpg\n"
     ]
    },
    {
     "data": {
      "image/png": "[encoded data removed]",
      "text/plain": [
       "<PIL.JpegImagePlugin.JpegImageFile image mode=RGB size=76x72 at 0x7F2C17915AC8>"
      ]
     },
     "execution_count": 4,
     "metadata": {},
     "output_type": "execute_result"
    }
   ],
   "source": [
    "# Test Script \n",
    "\n",
    "IMAGE_PATH = '/home/eren/tmp/tf-crnn/data/images/test_hangul/'\n",
    "image_name = random.choice(os.listdir(IMAGE_PATH))\n",
    "img = os.path.join(IMAGE_PATH, image_name)\n",
    "print(img)\n",
    "Image.open(img)"
   ]
  },
  {
   "cell_type": "code",
   "execution_count": 5,
   "metadata": {},
   "outputs": [],
   "source": [
    "image = imread(img ,as_gray=True, pilmode='RGB')[: ,:, None]"
   ]
  },
  {
   "cell_type": "code",
   "execution_count": 6,
   "metadata": {
    "scrolled": false
   },
   "outputs": [
    {
     "name": "stdout",
     "output_type": "stream",
     "text": [
      "INFO:tensorflow:Restoring parameters from ./output_hangul_eren_750_v1/export/1552705958/variables/variables\n"
     ]
    }
   ],
   "source": [
    "with tf.Session() as sess:\n",
    "    model = PredictionModel(model_dir)\n",
    "    predictions = model.predict(image)\n",
    "    transcription = predictions['words']\n",
    "    score = predictions['score'] # Around 10.0 -> seems pretty sure, less than 5.0 bit unsure, some errors/challenging images"
   ]
  },
  {
   "cell_type": "code",
   "execution_count": 7,
   "metadata": {
    "scrolled": false
   },
   "outputs": [
    {
     "data": {
      "text/plain": [
       "'두'"
      ]
     },
     "execution_count": 7,
     "metadata": {},
     "output_type": "execute_result"
    }
   ],
   "source": [
    "transcription[0].decode('utf-8')"
   ]
  },
  {
   "cell_type": "markdown",
   "metadata": {},
   "source": [
    "# Accuracy measure"
   ]
  },
  {
   "cell_type": "code",
   "execution_count": 8,
   "metadata": {
    "scrolled": true
   },
   "outputs": [
    {
     "name": "stdout",
     "output_type": "stream",
     "text": [
      "INFO:tensorflow:Restoring parameters from ./output_hangul_eren_750_v1/export/1552705958/variables/variables\n"
     ]
    },
    {
     "name": "stderr",
     "output_type": "stream",
     "text": [
      "Test:   8%|▊         | 40/500 [00:18<03:16,  2.35it/s]"
     ]
    },
    {
     "ename": "ValueError",
     "evalue": "Could not find a format to read the specified file in mode 'i'",
     "output_type": "error",
     "traceback": [
      "\u001b[0;31m---------------------------------------------------------------------------\u001b[0m",
      "\u001b[0;31mValueError\u001b[0m                                Traceback (most recent call last)",
      "\u001b[0;32m<ipython-input-8-6c8a273ba166>\u001b[0m in \u001b[0;36m<module>\u001b[0;34m\u001b[0m\n\u001b[1;32m     25\u001b[0m             \u001b[0mfilename\u001b[0m \u001b[0;34m=\u001b[0m \u001b[0mrandom\u001b[0m\u001b[0;34m.\u001b[0m\u001b[0mchoice\u001b[0m\u001b[0;34m(\u001b[0m\u001b[0mdata\u001b[0m\u001b[0;34m)\u001b[0m\u001b[0;34m\u001b[0m\u001b[0m\n\u001b[1;32m     26\u001b[0m             \u001b[0mfile_index\u001b[0m \u001b[0;34m=\u001b[0m \u001b[0mdata\u001b[0m\u001b[0;34m.\u001b[0m\u001b[0mindex\u001b[0m\u001b[0;34m(\u001b[0m\u001b[0mfilename\u001b[0m\u001b[0;34m)\u001b[0m\u001b[0;34m\u001b[0m\u001b[0m\n\u001b[0;32m---> 27\u001b[0;31m             \u001b[0mimage\u001b[0m \u001b[0;34m=\u001b[0m \u001b[0mimread\u001b[0m\u001b[0;34m(\u001b[0m\u001b[0mfilename\u001b[0m\u001b[0;34m,\u001b[0m \u001b[0mas_gray\u001b[0m\u001b[0;34m=\u001b[0m\u001b[0;32mTrue\u001b[0m\u001b[0;34m,\u001b[0m \u001b[0mpilmode\u001b[0m\u001b[0;34m=\u001b[0m\u001b[0;34m'RGB'\u001b[0m\u001b[0;34m)\u001b[0m\u001b[0;34m[\u001b[0m\u001b[0;34m:\u001b[0m \u001b[0;34m,\u001b[0m\u001b[0;34m:\u001b[0m\u001b[0;34m,\u001b[0m \u001b[0;32mNone\u001b[0m\u001b[0;34m]\u001b[0m\u001b[0;34m\u001b[0m\u001b[0m\n\u001b[0m\u001b[1;32m     28\u001b[0m             \u001b[0mpredictions\u001b[0m \u001b[0;34m=\u001b[0m \u001b[0mmodel\u001b[0m\u001b[0;34m.\u001b[0m\u001b[0mpredict\u001b[0m\u001b[0;34m(\u001b[0m\u001b[0mimage\u001b[0m\u001b[0;34m)\u001b[0m\u001b[0;34m\u001b[0m\u001b[0m\n\u001b[1;32m     29\u001b[0m             \u001b[0mtranscription\u001b[0m \u001b[0;34m=\u001b[0m \u001b[0mpredictions\u001b[0m\u001b[0;34m[\u001b[0m\u001b[0;34m'words'\u001b[0m\u001b[0;34m]\u001b[0m\u001b[0;34m\u001b[0m\u001b[0m\n",
      "\u001b[0;32m~/.pyenv/versions/3.6.5/envs/default/lib/python3.6/site-packages/imageio/core/functions.py\u001b[0m in \u001b[0;36mimread\u001b[0;34m(uri, format, **kwargs)\u001b[0m\n\u001b[1;32m    219\u001b[0m \u001b[0;34m\u001b[0m\u001b[0m\n\u001b[1;32m    220\u001b[0m     \u001b[0;31m# Get reader and read first\u001b[0m\u001b[0;34m\u001b[0m\u001b[0;34m\u001b[0m\u001b[0m\n\u001b[0;32m--> 221\u001b[0;31m     \u001b[0mreader\u001b[0m \u001b[0;34m=\u001b[0m \u001b[0mread\u001b[0m\u001b[0;34m(\u001b[0m\u001b[0muri\u001b[0m\u001b[0;34m,\u001b[0m \u001b[0mformat\u001b[0m\u001b[0;34m,\u001b[0m \u001b[0;34m\"i\"\u001b[0m\u001b[0;34m,\u001b[0m \u001b[0;34m**\u001b[0m\u001b[0mkwargs\u001b[0m\u001b[0;34m)\u001b[0m\u001b[0;34m\u001b[0m\u001b[0m\n\u001b[0m\u001b[1;32m    222\u001b[0m     \u001b[0;32mwith\u001b[0m \u001b[0mreader\u001b[0m\u001b[0;34m:\u001b[0m\u001b[0;34m\u001b[0m\u001b[0m\n\u001b[1;32m    223\u001b[0m         \u001b[0;32mreturn\u001b[0m \u001b[0mreader\u001b[0m\u001b[0;34m.\u001b[0m\u001b[0mget_data\u001b[0m\u001b[0;34m(\u001b[0m\u001b[0;36m0\u001b[0m\u001b[0;34m)\u001b[0m\u001b[0;34m\u001b[0m\u001b[0m\n",
      "\u001b[0;32m~/.pyenv/versions/3.6.5/envs/default/lib/python3.6/site-packages/imageio/core/functions.py\u001b[0m in \u001b[0;36mget_reader\u001b[0;34m(uri, format, mode, **kwargs)\u001b[0m\n\u001b[1;32m    137\u001b[0m     \u001b[0;32mif\u001b[0m \u001b[0mformat\u001b[0m \u001b[0;32mis\u001b[0m \u001b[0;32mNone\u001b[0m\u001b[0;34m:\u001b[0m\u001b[0;34m\u001b[0m\u001b[0m\n\u001b[1;32m    138\u001b[0m         raise ValueError(\n\u001b[0;32m--> 139\u001b[0;31m             \u001b[0;34m\"Could not find a format to read the specified file \"\u001b[0m \u001b[0;34m\"in mode %r\"\u001b[0m \u001b[0;34m%\u001b[0m \u001b[0mmode\u001b[0m\u001b[0;34m\u001b[0m\u001b[0m\n\u001b[0m\u001b[1;32m    140\u001b[0m         )\n\u001b[1;32m    141\u001b[0m \u001b[0;34m\u001b[0m\u001b[0m\n",
      "\u001b[0;31mValueError\u001b[0m: Could not find a format to read the specified file in mode 'i'"
     ]
    }
   ],
   "source": [
    "# Print Accuracy for test dataset + error list zip..\n",
    "\n",
    "import csv\n",
    "\n",
    "from tqdm import tqdm\n",
    "\n",
    "real_label_list = []\n",
    "no_error_label_list = []\n",
    "error_label_list = []\n",
    "error_label_index = []\n",
    "filename_list = []\n",
    "error_file_list = []\n",
    "with open('/home/eren/tmp/tf-crnn/data/csv/test.csv') as f:\n",
    "    data = f.read().strip().split('\\n')\n",
    "    for text in [dat.split('_')[3] for dat in data]:\n",
    "        real_label_list.append(text)\n",
    "    for file in [dat.split('/')[-1] for dat in data]:\n",
    "        filename_list.append(file)\n",
    "    \n",
    "accuracy = 0\n",
    "\n",
    "with tf.Session() as sess:\n",
    "        model = PredictionModel(model_dir)\n",
    "        for i in tqdm(range(500), desc='Test'):\n",
    "            filename = random.choice(data)\n",
    "            file_index = data.index(filename)\n",
    "            image = imread(filename, as_gray=True, pilmode='RGB')[: ,:, None]\n",
    "            predictions = model.predict(image)\n",
    "            transcription = predictions['words']\n",
    "            if transcription[0].decode('utf-8') == real_label_list[file_index]:\n",
    "                accuracy = accuracy + 1/500\n",
    "                no_error_label_list.append(transcription[0].decode('utf-8'))\n",
    "            else:\n",
    "                error_label_list.append(transcription[0].decode('utf-8'))\n",
    "                error_label_index.append(file_index)\n",
    "                error_file_list.append(filename_list[file_index])\n",
    "                \n",
    "                \n",
    "accuracy = accuracy * 100\n"
   ]
  },
  {
   "cell_type": "code",
   "execution_count": null,
   "metadata": {
    "scrolled": false
   },
   "outputs": [],
   "source": [
    "accuracy"
   ]
  },
  {
   "cell_type": "markdown",
   "metadata": {},
   "source": [
    "# Error GT text 수정"
   ]
  },
  {
   "cell_type": "code",
   "execution_count": 10,
   "metadata": {
    "scrolled": false
   },
   "outputs": [
    {
     "data": {
      "text/plain": [
       "37"
      ]
     },
     "execution_count": 10,
     "metadata": {},
     "output_type": "execute_result"
    }
   ],
   "source": [
    "len(error_label_index)"
   ]
  },
  {
   "cell_type": "code",
   "execution_count": 11,
   "metadata": {
    "scrolled": true
   },
   "outputs": [
    {
     "data": {
      "text/plain": [
       "['training_1329_종_60.jpg',\n",
       " 'training_1329_편에_40.jpg',\n",
       " 'training_1440_참_25.jpg',\n",
       " 'training_1602_알_28.jpg',\n",
       " 'training_1484_잴 수_1.jpg',\n",
       " 'training_1653_세_16.jpg',\n",
       " 'training_1440_진_32.jpg',\n",
       " 'training_1122_못하는_22.jpg',\n",
       " 'training_1641_원리 이용_12.jpg',\n",
       " 'training_1329_람_64.jpg',\n",
       " 'training_1676_클_63.jpg',\n",
       " 'training_1255_같이 계단_30.jpg',\n",
       " 'training_1622_세_3.jpg',\n",
       " 'training_1298_게_25.jpg',\n",
       " 'training_1324_수사_13.jpg',\n",
       " 'training_1423_검_25.jpg',\n",
       " 'training_1264_세제곱근_2.jpg',\n",
       " 'training_1434_회_16.jpg',\n",
       " 'training_1416_차_22.jpg',\n",
       " 'training_1314_지구_17.jpg',\n",
       " 'training_1268_남학생_56.jpg',\n",
       " 'training_1222_도전 심화_0.jpg',\n",
       " 'training_1622_차례로_14.jpg',\n",
       " 'training_1225_올_0.jpg',\n",
       " 'training_1585_중요해요_3.jpg',\n",
       " 'training_1181_을_36.jpg',\n",
       " 'training_1298_의견이 대_36.jpg',\n",
       " 'training_1580_하여_7.jpg',\n",
       " 'training_1181_그려_39.jpg',\n",
       " 'training_1297_반_17.jpg',\n",
       " 'training_1622_차례로_14.jpg',\n",
       " 'training_1676_성취_2.jpg',\n",
       " 'training_1622_차례로_14.jpg',\n",
       " 'training_1122_칠_21.jpg',\n",
       " 'training_1434_회_16.jpg',\n",
       " 'training_1515_백의_16.jpg',\n",
       " 'training_1416_차_22.jpg']"
      ]
     },
     "execution_count": 11,
     "metadata": {},
     "output_type": "execute_result"
    }
   ],
   "source": [
    "error_file_list"
   ]
  },
  {
   "cell_type": "code",
   "execution_count": 12,
   "metadata": {},
   "outputs": [
    {
     "data": {
      "text/plain": [
       "['건축',\n",
       " '평면으로',\n",
       " '번째',\n",
       " '물질',\n",
       " '배가',\n",
       " '는',\n",
       " '이는',\n",
       " '국가',\n",
       " '평행',\n",
       " '구',\n",
       " '방향으로',\n",
       " '사람의',\n",
       " '접',\n",
       " '좌표평면',\n",
       " '되도록',\n",
       " '차를',\n",
       " '수를',\n",
       " '오',\n",
       " '철근',\n",
       " '서로',\n",
       " '홍보',\n",
       " '홍보',\n",
       " '만족시키도록',\n",
       " '선분',\n",
       " '빨리',\n",
       " '지면',\n",
       " '체는',\n",
       " '자주',\n",
       " '값을',\n",
       " '삼각형',\n",
       " '그래프가',\n",
       " '알',\n",
       " '최대가',\n",
       " '일',\n",
       " '가지',\n",
       " '과목만',\n",
       " '몇',\n",
       " '부분의',\n",
       " '각',\n",
       " '두',\n",
       " '의',\n",
       " '서',\n",
       " '돌아온',\n",
       " '오른쪽',\n",
       " '값을',\n",
       " '넓이의',\n",
       " '문제',\n",
       " '다른',\n",
       " '부피가',\n",
       " '특성이',\n",
       " '의',\n",
       " '것을',\n",
       " '집합',\n",
       " '변곡점의',\n",
       " '합하여',\n",
       " '조가',\n",
       " '구하여라',\n",
       " '한',\n",
       " '의',\n",
       " '를',\n",
       " '포집',\n",
       " '각각',\n",
       " '하나씩',\n",
       " '가거도',\n",
       " '색으로',\n",
       " '대로',\n",
       " '대한',\n",
       " '그림과',\n",
       " '만족하는',\n",
       " '대출받으면서',\n",
       " '해를',\n",
       " '주머',\n",
       " '실으려면',\n",
       " '미분계수를',\n",
       " '꼭짓점',\n",
       " '같을 때',\n",
       " '의',\n",
       " '한',\n",
       " '최대',\n",
       " '숫자',\n",
       " '대로',\n",
       " '대각선이',\n",
       " '어른',\n",
       " '퍼',\n",
       " '구하였더니',\n",
       " '최솟값',\n",
       " '고구',\n",
       " '돌아온',\n",
       " '각형',\n",
       " '동호회에서',\n",
       " '나눈',\n",
       " '대하여',\n",
       " '철근',\n",
       " '두',\n",
       " '이때',\n",
       " '오른쪽',\n",
       " '지난달',\n",
       " '차례로',\n",
       " '않은',\n",
       " '영역으로',\n",
       " '중점을',\n",
       " '가득',\n",
       " '교점을',\n",
       " '주차선의',\n",
       " '만족시키는',\n",
       " '값을',\n",
       " '오른쪽',\n",
       " '자연수',\n",
       " '진자를',\n",
       " '다음',\n",
       " '것이다',\n",
       " '무게는',\n",
       " '접하도록',\n",
       " '이용하여',\n",
       " '다섯',\n",
       " '고구',\n",
       " '면인',\n",
       " '둘러싸인',\n",
       " '은',\n",
       " '때',\n",
       " '때',\n",
       " '이',\n",
       " '중복하여',\n",
       " '횟수',\n",
       " '둘러싸인',\n",
       " '규',\n",
       " '를',\n",
       " '일',\n",
       " '때',\n",
       " '인접한',\n",
       " '정수',\n",
       " '온도를',\n",
       " '발을',\n",
       " '새로운',\n",
       " '등이',\n",
       " '닮음',\n",
       " '단위로',\n",
       " '에',\n",
       " '공기',\n",
       " '그림은',\n",
       " '를',\n",
       " '점',\n",
       " '연결하는',\n",
       " '물체',\n",
       " '계수가',\n",
       " '전체의',\n",
       " '교육청',\n",
       " '모습',\n",
       " '합동',\n",
       " '종류인',\n",
       " '당하고',\n",
       " '모두',\n",
       " '함수',\n",
       " '수학체',\n",
       " '하는',\n",
       " '구하',\n",
       " '같이',\n",
       " '원',\n",
       " '과',\n",
       " '하여',\n",
       " '마찰력이',\n",
       " '적이',\n",
       " '몇',\n",
       " '오른쪽',\n",
       " '값을',\n",
       " '개념북',\n",
       " '것의',\n",
       " '공',\n",
       " '두',\n",
       " '다음을',\n",
       " '점이다',\n",
       " '면으로',\n",
       " '만든',\n",
       " '값을',\n",
       " '기록자',\n",
       " '집합',\n",
       " '작용해',\n",
       " '규',\n",
       " '다음',\n",
       " '미만',\n",
       " '이',\n",
       " '몰수는',\n",
       " '서',\n",
       " '되는',\n",
       " '최대값을',\n",
       " '넓이를',\n",
       " '접어',\n",
       " '를',\n",
       " '닮음',\n",
       " '하므로',\n",
       " '판단을',\n",
       " '모집단에서',\n",
       " '부분의',\n",
       " '유형',\n",
       " '것만을',\n",
       " '오른쪽',\n",
       " '에서',\n",
       " '있는',\n",
       " '표',\n",
       " '의',\n",
       " '없',\n",
       " '몇',\n",
       " '과정을',\n",
       " '듣기',\n",
       " '설명으로',\n",
       " '함수',\n",
       " '한',\n",
       " '직',\n",
       " '사분면',\n",
       " '않은',\n",
       " '학생이',\n",
       " '수직이',\n",
       " '써넣으시오',\n",
       " '형',\n",
       " '것',\n",
       " '사랑은',\n",
       " '그래프와',\n",
       " '평행이동',\n",
       " '만나는',\n",
       " '수를',\n",
       " '돌아온',\n",
       " '아닌',\n",
       " '단답형',\n",
       " '만에',\n",
       " '최소한',\n",
       " '회사에서',\n",
       " '동물이',\n",
       " '세로의',\n",
       " '점',\n",
       " '아닌',\n",
       " '차례대로',\n",
       " '가치를',\n",
       " '어느',\n",
       " '전',\n",
       " '민성이의',\n",
       " '하여',\n",
       " '다른',\n",
       " '여',\n",
       " '사이',\n",
       " '개의',\n",
       " '말없이',\n",
       " '의',\n",
       " '탄저병',\n",
       " '의',\n",
       " '온도를',\n",
       " '적힌',\n",
       " '의',\n",
       " '세',\n",
       " '이상',\n",
       " '상위',\n",
       " '직사각형',\n",
       " '래프',\n",
       " '점',\n",
       " '통해',\n",
       " '각각',\n",
       " '만들려고',\n",
       " '학생들이',\n",
       " '수업을',\n",
       " '풀이',\n",
       " '상위',\n",
       " '색을',\n",
       " '태양',\n",
       " '비',\n",
       " '횟수',\n",
       " '자주',\n",
       " '수는',\n",
       " '물',\n",
       " '놓을',\n",
       " '요일',\n",
       " '모든',\n",
       " '을',\n",
       " '몇',\n",
       " '팔린다고',\n",
       " '끝마치려고',\n",
       " '해를',\n",
       " '어느',\n",
       " '이하의',\n",
       " '비',\n",
       " '이',\n",
       " '대하여',\n",
       " '곡선에',\n",
       " '철근',\n",
       " '두',\n",
       " '오른쪽',\n",
       " '서술형',\n",
       " '개수는',\n",
       " '다음',\n",
       " '두',\n",
       " '여성의',\n",
       " '문제',\n",
       " '수영',\n",
       " '녹지',\n",
       " '값을',\n",
       " '연장',\n",
       " '차례로',\n",
       " '위',\n",
       " '가장',\n",
       " '쓰고',\n",
       " '학습에서',\n",
       " '때',\n",
       " '서술형',\n",
       " '수',\n",
       " '명확하지',\n",
       " '할',\n",
       " '발을',\n",
       " '서',\n",
       " '때',\n",
       " '알을',\n",
       " '도록',\n",
       " '최솟',\n",
       " '반은',\n",
       " '있는',\n",
       " '두',\n",
       " '철근',\n",
       " '길이',\n",
       " '정의역',\n",
       " '평행한',\n",
       " '일',\n",
       " '입체도형의',\n",
       " '문자를',\n",
       " '그림과',\n",
       " '성을',\n",
       " '다음',\n",
       " '풀기',\n",
       " '나누었을',\n",
       " '대하',\n",
       " '이상일',\n",
       " '서로',\n",
       " '다음을',\n",
       " '두',\n",
       " '수를',\n",
       " '자세히',\n",
       " '값을',\n",
       " '의해',\n",
       " '쌀',\n",
       " '원기둥이',\n",
       " '그리려고',\n",
       " '대하여',\n",
       " '와',\n",
       " '직선',\n",
       " '함수의',\n",
       " '책',\n",
       " '바퀴는',\n",
       " '당하고',\n",
       " '십의',\n",
       " '공',\n",
       " '작을',\n",
       " '자연수',\n",
       " '과학',\n",
       " '될',\n",
       " '의',\n",
       " '대하여',\n",
       " '대하여',\n",
       " '실',\n",
       " '학생',\n",
       " '값을',\n",
       " '건을',\n",
       " '위',\n",
       " '규분포표를',\n",
       " '적혀',\n",
       " '무리함수',\n",
       " '큰',\n",
       " '시간이',\n",
       " '림과',\n",
       " '중심으로',\n",
       " '같이',\n",
       " '접원이고',\n",
       " '위의',\n",
       " '를',\n",
       " '값들의',\n",
       " '지은이네',\n",
       " '넓이가',\n",
       " '전도성이',\n",
       " '옳은',\n",
       " '온도에',\n",
       " '닮음',\n",
       " '이용하여',\n",
       " '않는',\n",
       " '폭이',\n",
       " '용해도를',\n",
       " '이번',\n",
       " '단',\n",
       " '카드',\n",
       " '이',\n",
       " '직선',\n",
       " '든',\n",
       " '킬',\n",
       " '의',\n",
       " '숫자를',\n",
       " '몇',\n",
       " '인호네',\n",
       " '위',\n",
       " '쓰고',\n",
       " '정책에',\n",
       " '등식',\n",
       " '삼각형',\n",
       " '수',\n",
       " '일대일대응일',\n",
       " '합동',\n",
       " '농장의',\n",
       " '빗변의',\n",
       " '관계식을',\n",
       " '큰',\n",
       " '일차함수',\n",
       " '확률변수',\n",
       " '다음',\n",
       " '꼴로',\n",
       " '같은',\n",
       " '실',\n",
       " '이',\n",
       " '다음',\n",
       " '이',\n",
       " '어떤',\n",
       " '보기',\n",
       " '잘라도',\n",
       " '형',\n",
       " '맞은',\n",
       " '중에서',\n",
       " '과정을',\n",
       " '사건',\n",
       " '길이를',\n",
       " '풀이',\n",
       " '이웃하게',\n",
       " '상품',\n",
       " '값을',\n",
       " '여',\n",
       " '정할',\n",
       " '풀이',\n",
       " '재',\n",
       " '약분한',\n",
       " '명확하지',\n",
       " '각각',\n",
       " '길이가',\n",
       " '실시하였을',\n",
       " '설계하려고',\n",
       " '구',\n",
       " '하',\n",
       " '그림에',\n",
       " '을',\n",
       " '고',\n",
       " '오는',\n",
       " '중요',\n",
       " '구하는',\n",
       " '구하여라',\n",
       " '모든',\n",
       " '채우는데',\n",
       " '프를',\n",
       " '물체',\n",
       " '그',\n",
       " '문제',\n",
       " '방법의',\n",
       " '티록신',\n",
       " '일',\n",
       " '그래프',\n",
       " '숫자',\n",
       " '및',\n",
       " '통해',\n",
       " '그',\n",
       " '종류의',\n",
       " '남는',\n",
       " '한',\n",
       " '구하',\n",
       " '순열의']"
      ]
     },
     "execution_count": 12,
     "metadata": {},
     "output_type": "execute_result"
    }
   ],
   "source": [
    "no_error_label_list"
   ]
  },
  {
   "cell_type": "code",
   "execution_count": 13,
   "metadata": {},
   "outputs": [
    {
     "data": {
      "text/plain": [
       "['걸',\n",
       " '편어',\n",
       " '찰',\n",
       " '일',\n",
       " '짧수',\n",
       " '서',\n",
       " '전',\n",
       " '못한는',\n",
       " '원리이를',\n",
       " '림',\n",
       " '를',\n",
       " '같아계단',\n",
       " '서',\n",
       " '거',\n",
       " '수시',\n",
       " '리',\n",
       " '세제곱로',\n",
       " '호',\n",
       " '처',\n",
       " '체구',\n",
       " '남학',\n",
       " '도전 성의',\n",
       " '차세로',\n",
       " '돌',\n",
       " '중요해도',\n",
       " '될',\n",
       " '의견이 다',\n",
       " '하어',\n",
       " '그런',\n",
       " '빈',\n",
       " '차세로',\n",
       " '성류',\n",
       " '차세로',\n",
       " '철',\n",
       " '호',\n",
       " '택의',\n",
       " '처']"
      ]
     },
     "execution_count": 13,
     "metadata": {},
     "output_type": "execute_result"
    }
   ],
   "source": [
    "error_label_list"
   ]
  },
  {
   "cell_type": "code",
   "execution_count": 14,
   "metadata": {
    "scrolled": true
   },
   "outputs": [
    {
     "name": "stdout",
     "output_type": "stream",
     "text": [
      "{'걸'} 1340\n",
      "/home/eren/tmp/tf-crnn/data/images/test_hangul/training_1329_종_60.jpg\n",
      "{'편', '어'} 62\n",
      "/home/eren/tmp/tf-crnn/data/images/test_hangul/training_1329_편에_40.jpg\n",
      "{'찰'} 4868\n",
      "/home/eren/tmp/tf-crnn/data/images/test_hangul/training_1440_참_25.jpg\n",
      "{'일'} 7489\n",
      "/home/eren/tmp/tf-crnn/data/images/test_hangul/training_1602_알_28.jpg\n",
      "{'수', '짧'} 1842\n",
      "/home/eren/tmp/tf-crnn/data/images/test_hangul/training_1484_잴 수_1.jpg\n",
      "{'서'} 3858\n",
      "/home/eren/tmp/tf-crnn/data/images/test_hangul/training_1653_세_16.jpg\n",
      "{'전'} 510\n",
      "/home/eren/tmp/tf-crnn/data/images/test_hangul/training_1440_진_32.jpg\n",
      "{'는', '한', '못'} 5276\n",
      "/home/eren/tmp/tf-crnn/data/images/test_hangul/training_1122_못하는_22.jpg\n",
      "{'리', '원', '를', '이'} 3029\n",
      "/home/eren/tmp/tf-crnn/data/images/test_hangul/training_1641_원리 이용_12.jpg\n",
      "{'림'} 2956\n",
      "/home/eren/tmp/tf-crnn/data/images/test_hangul/training_1329_람_64.jpg\n",
      "{'를'} 7725\n",
      "/home/eren/tmp/tf-crnn/data/images/test_hangul/training_1676_클_63.jpg\n",
      "{'아', '계', '같', '단'} 726\n",
      "/home/eren/tmp/tf-crnn/data/images/test_hangul/training_1255_같이 계단_30.jpg\n",
      "{'서'} 5344\n",
      "/home/eren/tmp/tf-crnn/data/images/test_hangul/training_1622_세_3.jpg\n",
      "{'거'} 2316\n",
      "/home/eren/tmp/tf-crnn/data/images/test_hangul/training_1298_게_25.jpg\n",
      "{'시', '수'} 2513\n",
      "/home/eren/tmp/tf-crnn/data/images/test_hangul/training_1324_수사_13.jpg\n",
      "{'리'} 2476\n",
      "/home/eren/tmp/tf-crnn/data/images/test_hangul/training_1423_검_25.jpg\n",
      "{'세', '제', '곱', '로'} 4024\n",
      "/home/eren/tmp/tf-crnn/data/images/test_hangul/training_1264_세제곱근_2.jpg\n",
      "{'호'} 2895\n",
      "/home/eren/tmp/tf-crnn/data/images/test_hangul/training_1434_회_16.jpg\n",
      "{'처'} 4597\n",
      "/home/eren/tmp/tf-crnn/data/images/test_hangul/training_1416_차_22.jpg\n",
      "{'구', '체'} 2015\n",
      "/home/eren/tmp/tf-crnn/data/images/test_hangul/training_1314_지구_17.jpg\n",
      "{'학', '남'} 5089\n",
      "/home/eren/tmp/tf-crnn/data/images/test_hangul/training_1268_남학생_56.jpg\n",
      "{' ', '도', '성', '의', '전'} 4860\n",
      "/home/eren/tmp/tf-crnn/data/images/test_hangul/training_1222_도전 심화_0.jpg\n",
      "{'세', '차', '로'} 7224\n",
      "/home/eren/tmp/tf-crnn/data/images/test_hangul/training_1622_차례로_14.jpg\n",
      "{'돌'} 7503\n",
      "/home/eren/tmp/tf-crnn/data/images/test_hangul/training_1225_올_0.jpg\n",
      "{'중', '도', '해', '요'} 6099\n",
      "/home/eren/tmp/tf-crnn/data/images/test_hangul/training_1585_중요해요_3.jpg\n",
      "{'될'} 3033\n",
      "/home/eren/tmp/tf-crnn/data/images/test_hangul/training_1181_을_36.jpg\n",
      "{' ', '견', '이', '다', '의'} 2914\n",
      "/home/eren/tmp/tf-crnn/data/images/test_hangul/training_1298_의견이 대_36.jpg\n",
      "{'어', '하'} 5721\n",
      "/home/eren/tmp/tf-crnn/data/images/test_hangul/training_1580_하여_7.jpg\n",
      "{'런', '그'} 2853\n",
      "/home/eren/tmp/tf-crnn/data/images/test_hangul/training_1181_그려_39.jpg\n",
      "{'빈'} 85\n",
      "/home/eren/tmp/tf-crnn/data/images/test_hangul/training_1297_반_17.jpg\n",
      "{'세', '차', '로'} 7224\n",
      "/home/eren/tmp/tf-crnn/data/images/test_hangul/training_1622_차례로_14.jpg\n",
      "{'성', '류'} 2079\n",
      "/home/eren/tmp/tf-crnn/data/images/test_hangul/training_1676_성취_2.jpg\n",
      "{'세', '차', '로'} 7224\n",
      "/home/eren/tmp/tf-crnn/data/images/test_hangul/training_1622_차례로_14.jpg\n",
      "{'철'} 3518\n",
      "/home/eren/tmp/tf-crnn/data/images/test_hangul/training_1122_칠_21.jpg\n",
      "{'호'} 2895\n",
      "/home/eren/tmp/tf-crnn/data/images/test_hangul/training_1434_회_16.jpg\n",
      "{'의', '택'} 6068\n",
      "/home/eren/tmp/tf-crnn/data/images/test_hangul/training_1515_백의_16.jpg\n",
      "{'처'} 4597\n",
      "/home/eren/tmp/tf-crnn/data/images/test_hangul/training_1416_차_22.jpg\n"
     ]
    }
   ],
   "source": [
    "IMAGE_PATH = '/home/eren/tmp/tf-crnn/data/images/test_hangul/'\n",
    "\n",
    "for i in range(37):\n",
    "    result = set(error_label_list[i])\n",
    "    print(result, error_label_index[i])\n",
    "    image_name = error_file_list[i]\n",
    "    img = os.path.join(IMAGE_PATH, image_name)\n",
    "    print(img)"
   ]
  },
  {
   "cell_type": "code",
   "execution_count": 14,
   "metadata": {
    "scrolled": true
   },
   "outputs": [
    {
     "data": {
      "image/png": "[encoded data removed]",
      "text/plain": [
       "<PIL.JpegImagePlugin.JpegImageFile image mode=RGB size=113x101 at 0x7F6CD47BEE10>"
      ]
     },
     "execution_count": 14,
     "metadata": {},
     "output_type": "execute_result"
    }
   ],
   "source": [
    "Image.open('/home/eren/tmp/tf-crnn/data/images/test_hangul/training_1494_중요_0.jpg')"
   ]
  },
  {
   "cell_type": "code",
   "execution_count": 13,
   "metadata": {
    "scrolled": false
   },
   "outputs": [
    {
     "data": {
      "image/png": "[encoded data removed]",
      "text/plain": [
       "<PIL.JpegImagePlugin.JpegImageFile image mode=RGB size=306x114 at 0x7F87AE07CF98>"
      ]
     },
     "execution_count": 13,
     "metadata": {},
     "output_type": "execute_result"
    }
   ],
   "source": [
    "Image.open('/mnt/nas_rnd/jessie/data/layout/images/training_1329.jpg')"
   ]
  },
  {
   "cell_type": "markdown",
   "metadata": {},
   "source": [
    "# NEW CHANGED TEST CSV"
   ]
  },
  {
   "cell_type": "code",
   "execution_count": 14,
   "metadata": {},
   "outputs": [],
   "source": [
    "IMAGE_PATH = '/home/eren/tmp/tf-crnn/data/images/test_hangul/'\n",
    "\n",
    "image_name = os.listdir(IMAGE_PATH)\n",
    "new_file_list = []\n",
    "for file in image_name:\n",
    "    img = os.path.join(IMAGE_PATH, file)\n",
    "    new_file_list.append(img)\n",
    "\n",
    "with open('/home/eren/tmp/tf-crnn/data/csv/test.csv', 'w') as f:\n",
    "    for img in new_file_list:\n",
    "        f.write(img)\n",
    "        f.write('\\n')"
   ]
  },
  {
   "cell_type": "code",
   "execution_count": 15,
   "metadata": {},
   "outputs": [
    {
     "data": {
      "text/plain": [
       "8272"
      ]
     },
     "execution_count": 15,
     "metadata": {},
     "output_type": "execute_result"
    }
   ],
   "source": [
    "len(image_name)"
   ]
  }
 ],
 "metadata": {
  "kernelspec": {
   "display_name": "Python 3",
   "language": "python",
   "name": "python3"
  },
  "language_info": {
   "codemirror_mode": {
    "name": "ipython",
    "version": 3
   },
   "file_extension": ".py",
   "mimetype": "text/x-python",
   "name": "python",
   "nbconvert_exporter": "python",
   "pygments_lexer": "ipython3",
   "version": "3.6.5"
  }
 },
 "nbformat": 4,
 "nbformat_minor": 2
}
